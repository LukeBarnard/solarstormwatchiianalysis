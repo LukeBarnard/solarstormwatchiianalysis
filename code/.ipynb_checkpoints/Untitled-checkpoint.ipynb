{
 "cells": [
  {
   "cell_type": "code",
   "execution_count": 6,
   "metadata": {
    "collapsed": true
   },
   "outputs": [],
   "source": [
    "import SolarStormwatchIIAnalysis as ssw\n",
    "import simplejson as json"
   ]
  },
  {
   "cell_type": "code",
   "execution_count": 49,
   "metadata": {
    "collapsed": false
   },
   "outputs": [
    {
     "name": "stdout",
     "output_type": "stream",
     "text": [
      "Error, invalid path, check config: E:\\STEREO\\ares.nrl.navy.mil\\lz\n",
      "Error, invalid path, check config: E:\\STEREO\\ares.nrl.navy.mil\\lz\n"
     ]
    }
   ],
   "source": [
    "classifications = ssw.import_classifications(latest=True)\n",
    "\n",
    "subjects = ssw.import_subjects(active=True)"
   ]
  },
  {
   "cell_type": "code",
   "execution_count": 77,
   "metadata": {
    "collapsed": false
   },
   "outputs": [
    {
     "name": "stdout",
     "output_type": "stream",
     "text": [
      "Error, invalid path, check config: E:\\STEREO\\ares.nrl.navy.mil\\lz\n",
      "Error, invalid path, check config: E:\\STEREO\\ares.nrl.navy.mil\\lz\n",
      "ssw_009_swpc_638_sta_norm_20121005_092901.jpg\n",
      "[{'task': 'T1', 'value': [{'tool': 0, 'points': [{'y': 938.9499113475177, 'x': 115.16731770833333}, {'y': 903.563829787234, 'x': 207.68680740248226}, {'y': 896.3050753546099, 'x': 280.2491965868794}, {'y': 875.4365026595744, 'x': 360.97634086879435}, {'y': 847.3091755319149, 'x': 446.2388630319149}, {'y': 792.8701241134752, 'x': 535.1289893617021}, {'y': 747.5036569148937, 'x': 593.1810726950355}, {'y': 679.4530695921986, 'x': 658.4883089539007}, {'y': 625.0140181737588, 'x': 709.2815824468086}, {'y': 549.7064494680851, 'x': 731.0506427304964}, {'y': 465.3244680851064, 'x': 731.0506427304964}, {'y': 376.4053634751773, 'x': 717.4463652482269}, {'y': 321.0585106382979, 'x': 720.1661125886525}, {'y': 265.7116578014184, 'x': 713.8169880319149}, {'y': 198.5688441932624, 'x': 705.6540336879433}, {'y': 141.40824468085106, 'x': 693.863475177305}, {'y': 96.04177748226951, 'x': 666.651207890071}, {'y': 71.54382757092199, 'x': 647.6037234042553}, {'y': 38.87932180851064, 'x': 616.7639073581561}], 'details': [], 'closed': True, 'tool_label': 'Draw Storm Front', 'frame': 0}, {'tool': 0, 'points': [{'y': 944.0916445035463, 'x': 132.33198969414892}, {'y': 899.4406028368795, 'x': 272.88871343085106}, {'y': 871.8579343971633, 'x': 347.1922373670213}, {'y': 868.2176418439717, 'x': 414.1916278812057}, {'y': 845.1903812056739, 'x': 465.3771054964539}, {'y': 818.50820035461, 'x': 521.3902371453903}, {'y': 788.2693927304966, 'x': 568.5105828900712}, {'y': 757.1427304964541, 'x': 608.5210549645392}, {'y': 719.7884530141845, 'x': 650.3071254432626}, {'y': 683.3257978723406, 'x': 694.7621897163123}, {'y': 644.1922096631207, 'x': 718.7680629432626}, {'y': 599.7244570035461, 'x': 738.3275709219861}, {'y': 547.2517176418442, 'x': 747.218583776596}, {'y': 492.110039893617, 'x': 762.3334441489365}, {'y': 444.0855496453901, 'x': 761.4438164893619}, {'y': 399.6160239361702, 'x': 766.778036347518}, {'y': 342.6968085106381, 'x': 762.3334441489365}, {'y': 283.99839317375864, 'x': 765.0006094858159}, {'y': 242.1978058510637, 'x': 765.0006094858159}, {'y': 201.7497783687942, 'x': 759.0889849290783}, {'y': 160.3758311170212, 'x': 753.4424867021279}, {'y': 123.02343750000001, 'x': 720.5455452127662}], 'details': [], 'closed': True, 'tool_label': 'Draw Storm Front', 'frame': 1}, {'tool': 0, 'points': [{'y': 984.5777925531914, 'x': 87.81344193262412}, {'y': 971.9248670212766, 'x': 177.01764738475177}, {'y': 963.9343971631206, 'x': 210.96941489361703}, {'y': 947.285350177305, 'x': 254.2406914893617}, {'y': 931.3044104609929, 'x': 307.49775598404256}, {'y': 915.9879210992908, 'x': 354.76335328014187}, {'y': 896.010859929078, 'x': 415.34275265957444}, {'y': 878.0310283687943, 'x': 469.26435062056737}, {'y': 856.7211879432624, 'x': 515.8654144503546}, {'y': 831.4153368794326, 'x': 547.1537012411347}, {'y': 814.1017287234042, 'x': 577.7756538120567}, {'y': 792.792109929078, 'x': 609.730274822695}, {'y': 773.4813829787234, 'x': 631.0327460106383}, {'y': 758.1648936170212, 'x': 652.3352171985815}, {'y': 739.5186170212766, 'x': 674.9685283687943}, {'y': 721.5387854609929, 'x': 696.272772606383}, {'y': 702.8942819148937, 'x': 738.8777149822695}, {'y': 686.245234929078, 'x': 757.5167331560284}], 'details': [], 'closed': True, 'tool_label': 'Draw Storm Front', 'frame': 2}], 'task_label': 'Use the cursor to draw a polygon around the outer edge of the storm front in each of these 3 images. Click twice on the last point to end the task'}]\n"
     ]
    }
   ],
   "source": [
    "reload(ssw)\n",
    "\n",
    "classifications = ssw.import_classifications(latest=True)\n",
    "\n",
    "subjects = ssw.import_subjects(active=True)\n",
    "for ids, sub in subjects.iterrows():\n",
    "    print sub['metadata'][\"asset_0\"]\n",
    "    break\n",
    "\n",
    "for ids, cls in classifications.iterrows():\n",
    "    print cls['annotations']\n",
    "    break"
   ]
  },
  {
   "cell_type": "code",
   "execution_count": 18,
   "metadata": {
    "collapsed": false
   },
   "outputs": [
    {
     "name": "stdout",
     "output_type": "stream",
     "text": [
      "{'ssw_009': {'sta': {'diff': [], 'norm': []}, 'stb': {'diff': [], 'norm': []}}}\n",
      "{'ssw_009': {'sta': {'diff': [3215323L, 3215327L, 3215332L, 3215339L, 3215347L, 3215354L, 3215360L, 3215366L, 3215372L], 'norm': [3215239L, 3215249L, 3215259L, 3215267L, 3215276L, 3215287L, 3215296L, 3215305L, 3215314L]}, 'stb': {'diff': [3215672L, 3215679L, 3215686L, 3215693L, 3215699L, 3215704L, 3215711L, 3215718L, 3215726L], 'norm': [3215595L, 3215606L, 3215617L, 3215626L, 3215636L, 3215644L, 3215645L, 3215650L, 3215661L]}}}\n"
     ]
    }
   ],
   "source": [
    "subjects = ssw.import_subjects(active=True)\n",
    "\n",
    "event_ids = []\n",
    "\n",
    "for ids, sub in subjects.iterrows():\n",
    "    meta = json.loads(sub['metadata'])\n",
    "    name = meta['subject_name']\n",
    "    ssw_code = name.split('_')\n",
    "    ssw_code = \"_\".join(ssw_code[0:2])\n",
    "    event_ids.append(ssw_code)\n",
    "\n",
    "# Get unique event id's\n",
    "event_ids = list(set(event_ids))\n",
    "\n",
    "event_tree = dict()\n",
    "for e in event_ids:\n",
    "            event_tree[e] = {'sta':{'norm':[], 'diff':[]}, 'stb':{'norm':[], 'diff':[]}}\n",
    "\n",
    "# Now populate the lists in the subject sets with the individual subsets \n",
    "for ids, sub in subjects.iterrows():\n",
    "    meta = json.loads(sub['metadata'])\n",
    "    name = meta['subject_name']\n",
    "    name = name.split('_')\n",
    "    ssw_code = \"_\".join(name[0:2])\n",
    "    craft  = name[4]\n",
    "    im_type = name[5]\n",
    "    \n",
    "    event_tree[ssw_code][craft][im_type].append(sub['subject_id'])"
   ]
  },
  {
   "cell_type": "code",
   "execution_count": 38,
   "metadata": {
    "collapsed": true
   },
   "outputs": [],
   "source": [
    "# Make a dictionary with details of which subjects and subject sets belong to which \n",
    "# Get subject sets belonging to each event\n",
    "event_dict = dict()\n",
    "for e in event_ids:\n",
    "    subject_sets = []\n",
    "    for ids, sub in subjects.iterrows():\n",
    "        meta = json.loads(sub['metadata'])\n",
    "        name = meta['subject_name']\n",
    "        ssw_code = name.split('_')\n",
    "        ssw_code = \"_\".join(ssw_code[0:2])\n",
    "        if ssw_code == e:\n",
    "            subject_sets.append(sub['subject_set_id'])\n"
   ]
  },
  {
   "cell_type": "code",
   "execution_count": null,
   "metadata": {
    "collapsed": true
   },
   "outputs": [],
   "source": [
    "# Loop through the unique subject sets\n",
    "    for set_id in subjects['subject_set_id'].unique():\n",
    "        # Get all subjects in this set\n",
    "        subject_subset = get_df_subset(subjects, 'subject_set_id', set_id)\n",
    "\n",
    "        # Get info on the files in this set.\n",
    "        set_files = get_subject_set_files(subject_subset, [set_id])\n",
    "\n",
    "        # Create a group for this set\n",
    "        grp_set = hdf.create_group(str(set_id))\n",
    "        grp_set.attrs['craft'] = set_files[set_id]['craft']\n",
    "\n",
    "        # Loop over the subjects in this set\n",
    "        for ids, sub in subject_subset.iterrows():\n",
    "            # Get the meta information of assets in the subject\n",
    "            info = json.loads(sub['metadata'])\n",
    "\n",
    "            # Find classifications for this subject\n",
    "            clas_subset = get_df_subset(classifications, 'subject_id', sub['subject_id'])\n",
    "\n",
    "            # Loop over the assets in this subject\n",
    "            for asset_id in range(3):\n",
    "                key = \"asset_{}\".format(asset_id)\n",
    "                # Form a timestring for the hdf5 branch name\n",
    "                file_parts = os.path.splitext(info[key])[0].split('_')\n",
    "                timestr = \"_\".join(file_parts[6:8])\n",
    "                timestr = pd.datetime.strptime(timestr, '%Y%m%d_%H%M%S').isoformat()\n",
    "\n",
    "                # Make a branch for this image type / asset time.\n",
    "                branch = \"/\".join([info['img_type'], timestr])\n",
    "                print branch\n",
    "                grp_asset = grp_set.create_group(branch)\n",
    "\n",
    "                # Loop over the classifications to pull out the annotations for this asset.\n",
    "                all_x_pix = []\n",
    "                all_y_pix = []\n",
    "                all_user = []\n",
    "                # Counter for the number of submissions on this asset\n",
    "                submission_count = 0\n",
    "                for idc, cla in clas_subset.iterrows():\n",
    "\n",
    "                    # Get the annotation\n",
    "                    cla_anno = json.loads(cla['annotations'])[0]\n",
    "\n",
    "                    # Loop through values and find value with frame matching asset index\n",
    "                    for val in cla_anno['value']:\n",
    "                        # Does this frame match the asset of interest?\n",
    "                        if val['frame'] == asset_id:\n",
    "                            # Get the data for this user classification\n",
    "                            user_x_pix = [int(p['x']) for p in val['points']]\n",
    "                            user_y_pix = [int(p['y']) for p in val['points']]\n",
    "                            user_id = cla['user_id']\n",
    "                            # Set up a group for this user.\n",
    "                            branch = \"users/user_{}\".format(submission_count)\n",
    "                            print \"---->\" + branch\n",
    "                            grp_user = grp_asset.create_group(branch)\n",
    "                            # Assign the user data to their group\n",
    "                            grp_user.create_dataset('x_pix', data=np.array(user_x_pix, dtype=int))\n",
    "                            grp_user.create_dataset('y_pix', data=np.array(user_y_pix, dtype=int))\n",
    "                            grp_user.create_dataset('id', data=user_id)\n",
    "                            # Dump users data into collection of annotations.\n",
    "                            all_x_pix.extend(user_x_pix)\n",
    "                            all_y_pix.extend(user_y_pix)\n",
    "                            all_user.append(user_id)\n",
    "                            submission_count += 1\n",
    "\n",
    "                # Now add on the collected annotation to the assets group.\n",
    "                grp_asset.create_dataset('x_pix', data=np.array(all_x_pix, dtype=int))\n",
    "                grp_asset.create_dataset('y_pix', data=np.array(all_y_pix, dtype=int))\n",
    "                grp_asset.create_dataset('user_list', data=np.array(all_user, dtype=int))"
   ]
  }
 ],
 "metadata": {
  "kernelspec": {
   "display_name": "Python 2",
   "language": "python",
   "name": "python2"
  },
  "language_info": {
   "codemirror_mode": {
    "name": "ipython",
    "version": 2
   },
   "file_extension": ".py",
   "mimetype": "text/x-python",
   "name": "python",
   "nbconvert_exporter": "python",
   "pygments_lexer": "ipython2",
   "version": "2.7.11"
  }
 },
 "nbformat": 4,
 "nbformat_minor": 0
}
