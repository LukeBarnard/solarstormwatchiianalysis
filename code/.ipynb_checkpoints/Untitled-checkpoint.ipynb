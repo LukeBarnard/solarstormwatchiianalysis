{
 "cells": [
  {
   "cell_type": "code",
   "execution_count": 1,
   "metadata": {},
   "outputs": [],
   "source": [
    "import SolarStormwatchIIAnalysis as ssw\n",
    "import simplejson as json\n",
    "import pandas as pd\n",
    "import numpy as np"
   ]
  },
  {
   "cell_type": "code",
   "execution_count": 2,
   "metadata": {},
   "outputs": [
    {
     "name": "stdout",
     "output_type": "stream",
     "text": [
      "Error, invalid path, check config: C:\\Users\\yq904481\\research\\repos\\SolarStormwatchIIAnalysis\\data\\solar-stormwatch-ii-workflow_contents.csv\n",
      "Error, invalid path, check config: F:\\STEREO\\ares.nrl.navy.mil\\lz\n",
      "Error, invalid path, check config: C:\\Users\\yq904481\\research\\repos\\SolarStormwatchIIAnalysis\\data\\solar-stormwatch-ii-workflow_contents.csv\n",
      "Error, invalid path, check config: F:\\STEREO\\ares.nrl.navy.mil\\lz\n",
      "Error, invalid path, check config: C:\\Users\\yq904481\\research\\repos\\SolarStormwatchIIAnalysis\\data\\solar-stormwatch-ii-workflow_contents.csv\n",
      "Error, invalid path, check config: F:\\STEREO\\ares.nrl.navy.mil\\lz\n",
      "Error, invalid path, check config: C:\\Users\\yq904481\\research\\repos\\SolarStormwatchIIAnalysis\\data\\solar-stormwatch-ii-workflow_contents.csv\n",
      "Error, invalid path, check config: F:\\STEREO\\ares.nrl.navy.mil\\lz\n"
     ]
    },
    {
     "name": "stderr",
     "output_type": "stream",
     "text": [
      "C:\\Anaconda3\\lib\\site-packages\\numpy\\core\\numeric.py:2327: FutureWarning: elementwise comparison failed; returning scalar instead, but in the future will perform elementwise comparison\n",
      "  return bool(asarray(a1 == a2).all())\n"
     ]
    },
    {
     "ename": "KeyError",
     "evalue": "'20081212T160901'",
     "output_type": "error",
     "traceback": [
      "\u001b[1;31m---------------------------------------------------------------------------\u001b[0m",
      "\u001b[1;31mKeyError\u001b[0m                                  Traceback (most recent call last)",
      "\u001b[1;32m<ipython-input-2-a0f2c7a91817>\u001b[0m in \u001b[0;36m<module>\u001b[1;34m\u001b[0m\n\u001b[0;32m     10\u001b[0m \u001b[1;33m\u001b[0m\u001b[0m\n\u001b[0;32m     11\u001b[0m \u001b[1;32mif\u001b[0m \u001b[0m__name__\u001b[0m \u001b[1;33m==\u001b[0m \u001b[1;34m\"__main__\"\u001b[0m\u001b[1;33m:\u001b[0m\u001b[1;33m\u001b[0m\u001b[1;33m\u001b[0m\u001b[0m\n\u001b[1;32m---> 12\u001b[1;33m     \u001b[0mmain\u001b[0m\u001b[1;33m(\u001b[0m\u001b[1;33m)\u001b[0m\u001b[1;33m\u001b[0m\u001b[1;33m\u001b[0m\u001b[0m\n\u001b[0m",
      "\u001b[1;32m<ipython-input-2-a0f2c7a91817>\u001b[0m in \u001b[0;36mmain\u001b[1;34m()\u001b[0m\n\u001b[0;32m      1\u001b[0m \u001b[1;32mdef\u001b[0m \u001b[0mmain\u001b[0m\u001b[1;33m(\u001b[0m\u001b[1;33m)\u001b[0m\u001b[1;33m:\u001b[0m\u001b[1;33m\u001b[0m\u001b[1;33m\u001b[0m\u001b[0m\n\u001b[0;32m      2\u001b[0m     \u001b[1;31m#ssw.test_out_of_range()\u001b[0m\u001b[1;33m\u001b[0m\u001b[1;33m\u001b[0m\u001b[1;33m\u001b[0m\u001b[0m\n\u001b[1;32m----> 3\u001b[1;33m     \u001b[0mssw\u001b[0m\u001b[1;33m.\u001b[0m\u001b[0mmatch_all_classifications_to_ssw_events\u001b[0m\u001b[1;33m(\u001b[0m\u001b[0mactive\u001b[0m\u001b[1;33m=\u001b[0m\u001b[1;32mTrue\u001b[0m\u001b[1;33m,\u001b[0m \u001b[0mlatest\u001b[0m\u001b[1;33m=\u001b[0m\u001b[1;32mTrue\u001b[0m\u001b[1;33m)\u001b[0m\u001b[1;33m\u001b[0m\u001b[1;33m\u001b[0m\u001b[0m\n\u001b[0m\u001b[0;32m      4\u001b[0m     \u001b[1;31m#username = \"lukebarnard\"\u001b[0m\u001b[1;33m\u001b[0m\u001b[1;33m\u001b[0m\u001b[1;33m\u001b[0m\u001b[0m\n\u001b[0;32m      5\u001b[0m     \u001b[1;31m#ssw.match_user_classifications_to_ssw_events(username, active=True, latest=True)\u001b[0m\u001b[1;33m\u001b[0m\u001b[1;33m\u001b[0m\u001b[1;33m\u001b[0m\u001b[0m\n",
      "\u001b[1;32m~\\research\\repos\\solarstormwatchiianalysis\\code\\SolarStormwatchIIAnalysis.py\u001b[0m in \u001b[0;36mmatch_all_classifications_to_ssw_events\u001b[1;34m(active, latest)\u001b[0m\n\u001b[0;32m    362\u001b[0m     \u001b[0mall_subjects\u001b[0m \u001b[1;33m=\u001b[0m \u001b[0mimport_subjects\u001b[0m\u001b[1;33m(\u001b[0m\u001b[0mactive\u001b[0m\u001b[1;33m=\u001b[0m\u001b[0mactive\u001b[0m\u001b[1;33m)\u001b[0m\u001b[1;33m\u001b[0m\u001b[1;33m\u001b[0m\u001b[0m\n\u001b[0;32m    363\u001b[0m     \u001b[1;31m# Get the event tree, detailing which subjects relate to which event number/ craft and image type.\u001b[0m\u001b[1;33m\u001b[0m\u001b[1;33m\u001b[0m\u001b[1;33m\u001b[0m\u001b[0m\n\u001b[1;32m--> 364\u001b[1;33m     \u001b[0mevent_tree\u001b[0m \u001b[1;33m=\u001b[0m \u001b[0mget_event_subject_tree\u001b[0m\u001b[1;33m(\u001b[0m\u001b[0mactive\u001b[0m\u001b[1;33m=\u001b[0m\u001b[0mactive\u001b[0m\u001b[1;33m)\u001b[0m\u001b[1;33m\u001b[0m\u001b[1;33m\u001b[0m\u001b[0m\n\u001b[0m\u001b[0;32m    365\u001b[0m \u001b[1;33m\u001b[0m\u001b[0m\n\u001b[0;32m    366\u001b[0m     \u001b[1;31m# Setup the HDF5 data file.\u001b[0m\u001b[1;33m\u001b[0m\u001b[1;33m\u001b[0m\u001b[1;33m\u001b[0m\u001b[0m\n",
      "\u001b[1;32m~\\research\\repos\\solarstormwatchiianalysis\\code\\SolarStormwatchIIAnalysis.py\u001b[0m in \u001b[0;36mget_event_subject_tree\u001b[1;34m(active)\u001b[0m\n\u001b[0;32m    298\u001b[0m         \u001b[0mim_type\u001b[0m \u001b[1;33m=\u001b[0m \u001b[0mname\u001b[0m\u001b[1;33m[\u001b[0m\u001b[1;36m5\u001b[0m\u001b[1;33m]\u001b[0m\u001b[1;33m\u001b[0m\u001b[1;33m\u001b[0m\u001b[0m\n\u001b[0;32m    299\u001b[0m \u001b[1;33m\u001b[0m\u001b[0m\n\u001b[1;32m--> 300\u001b[1;33m         \u001b[0mevent_tree\u001b[0m\u001b[1;33m[\u001b[0m\u001b[0mssw_code\u001b[0m\u001b[1;33m]\u001b[0m\u001b[1;33m[\u001b[0m\u001b[0mcraft\u001b[0m\u001b[1;33m]\u001b[0m\u001b[1;33m[\u001b[0m\u001b[0mim_type\u001b[0m\u001b[1;33m]\u001b[0m\u001b[1;33m.\u001b[0m\u001b[0mappend\u001b[0m\u001b[1;33m(\u001b[0m\u001b[0msub\u001b[0m\u001b[1;33m[\u001b[0m\u001b[1;34m'subject_id'\u001b[0m\u001b[1;33m]\u001b[0m\u001b[1;33m)\u001b[0m\u001b[1;33m\u001b[0m\u001b[1;33m\u001b[0m\u001b[0m\n\u001b[0m\u001b[0;32m    301\u001b[0m \u001b[1;33m\u001b[0m\u001b[0m\n\u001b[0;32m    302\u001b[0m     \u001b[1;32mreturn\u001b[0m \u001b[0mevent_tree\u001b[0m\u001b[1;33m\u001b[0m\u001b[1;33m\u001b[0m\u001b[0m\n",
      "\u001b[1;31mKeyError\u001b[0m: '20081212T160901'"
     ]
    }
   ],
   "source": [
    "def main():\n",
    "    #ssw.test_out_of_range()\n",
    "    ssw.match_all_classifications_to_ssw_events(active=True, latest=True)\n",
    "    #username = \"lukebarnard\"\n",
    "    #ssw.match_user_classifications_to_ssw_events(username, active=True, latest=True)\n",
    "    ssw.test_plot()\n",
    "    ssw.test_animation()\n",
    "    ssw.test_front_reconstruction()\n",
    "    return\n",
    "\n",
    "if __name__ == \"__main__\":\n",
    "    main()"
   ]
  },
  {
   "cell_type": "code",
   "execution_count": 6,
   "metadata": {},
   "outputs": [
    {
     "name": "stdout",
     "output_type": "stream",
     "text": [
      "Error, invalid path, check config: C:\\Users\\yq904481\\research\\repos\\SolarStormwatchIIAnalysis\\data\\solar-stormwatch-ii-workflow_contents.csv\n",
      "Error, invalid path, check config: F:\\STEREO\\ares.nrl.navy.mil\\lz\n"
     ]
    }
   ],
   "source": [
    "subjects = ssw.import_subjects(active=False)\n",
    "\n"
   ]
  },
  {
   "cell_type": "code",
   "execution_count": null,
   "metadata": {},
   "outputs": [],
   "source": []
  },
  {
   "cell_type": "code",
   "execution_count": null,
   "metadata": {},
   "outputs": [],
   "source": [
    "event_ids = []\n",
    "\n",
    "for ids, sub in subjects.iterrows():\n",
    "    ssw_code = sub['metadata']['subject_name'].split('_')\n",
    "    ssw_code = \"_\".join(ssw_code[0:2])\n",
    "    event_ids.append(ssw_code)\n",
    "\n",
    "# Get unique event id's\n",
    "event_ids = list(set(event_ids))\n",
    "print(event_ids)\n",
    "\n",
    "event_tree = dict()\n",
    "for e in event_ids:\n",
    "    event_tree[e] = {'sta': {'norm': [], 'diff': []}, 'stb': {'norm': [], 'diff': []}}\n",
    "\n",
    "# Now populate the lists in event_num/craft/im_type lists with the relevant subject ids\n",
    "for ids, sub in subjects.iterrows():\n",
    "    name = sub['metadata']['subject_name'].split('_')\n",
    "    ssw_code = \"_\".join(name[0:2])\n",
    "    craft = name[4]\n",
    "    im_type = name[5]\n",
    "\n",
    "    event_tree[ssw_code][craft][im_type].append(sub['subject_id'])"
   ]
  }
 ],
 "metadata": {
  "kernelspec": {
   "display_name": "Python 3",
   "language": "python",
   "name": "python3"
  },
  "language_info": {
   "codemirror_mode": {
    "name": "ipython",
    "version": 3
   },
   "file_extension": ".py",
   "mimetype": "text/x-python",
   "name": "python",
   "nbconvert_exporter": "python",
   "pygments_lexer": "ipython3",
   "version": "3.7.3"
  }
 },
 "nbformat": 4,
 "nbformat_minor": 4
}
